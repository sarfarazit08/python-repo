{
 "cells": [
  {
   "cell_type": "code",
   "execution_count": 1,
   "id": "9a3d864f",
   "metadata": {},
   "outputs": [
    {
     "name": "stdout",
     "output_type": "stream",
     "text": [
      "1. NFT Introduction.srt writing complete.\n",
      "4. The History of NFTs.srt writing complete.\n",
      "16. NFT Minting.srt writing complete.\n",
      "5. What's an NFT.srt writing complete.\n",
      "8. Smart Contracts.srt writing complete.\n",
      "9. ERC-721 NFT Token Protocol.srt writing complete.\n",
      "10. NFT Use Cases.srt writing complete.\n",
      "18. NFT Security.srt writing complete.\n",
      "6. Blockchain Protocols.srt writing complete.\n",
      "12. Investing in NFTs.srt writing complete.\n",
      "17. Buying an NFT.srt writing complete.\n",
      "11. Real World Asset NFT.srt writing complete.\n",
      "14. Wallets.srt writing complete.\n",
      "13. NFT Marketplaces.srt writing complete.\n",
      "15. IPFS for NFTs.srt writing complete.\n",
      "2. Important Message.srt writing complete.\n",
      "3. Why do we need Blockchain.srt writing complete.\n",
      "7. Ethereum.srt writing complete.\n"
     ]
    }
   ],
   "source": [
    "import pysrt, glob\n",
    "\n",
    "def writeContent(filename):\n",
    "    try:        \n",
    "        with open(\"content.md\", \"a+\") as f:\n",
    "            f.write(\"### \" + filename.replace(\".srt\",\"\") + \"\\r\\n\")\n",
    "            subs = pysrt.open(filename, encoding='iso-8859-1')\n",
    "            for sub in subs:\n",
    "                f.write(sub.text)\n",
    "            f.write(\"\\r\\n\")\n",
    "        print(filename + ' file parsing complete.')\n",
    "    except Exception as e:\n",
    "        print(filename + ' file parsing failed. {}'.format(e.args))\n",
    "\n",
    "for file in glob.glob(\"*.srt\"):\n",
    "    writeContent(file)"
   ]
  },
  {
   "cell_type": "code",
   "execution_count": null,
   "id": "00e4f7d4",
   "metadata": {},
   "outputs": [],
   "source": []
  }
 ],
 "metadata": {
  "kernelspec": {
   "display_name": "Python 3 (ipykernel)",
   "language": "python",
   "name": "python3"
  },
  "language_info": {
   "codemirror_mode": {
    "name": "ipython",
    "version": 3
   },
   "file_extension": ".py",
   "mimetype": "text/x-python",
   "name": "python",
   "nbconvert_exporter": "python",
   "pygments_lexer": "ipython3",
   "version": "3.9.7"
  }
 },
 "nbformat": 4,
 "nbformat_minor": 5
}
